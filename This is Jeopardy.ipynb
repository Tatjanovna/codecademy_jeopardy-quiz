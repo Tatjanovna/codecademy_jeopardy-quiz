{
 "cells": [
  {
   "cell_type": "markdown",
   "metadata": {},
   "source": [
    "# This is Jeopardy!"
   ]
  },
  {
   "cell_type": "markdown",
   "metadata": {},
   "source": [
    "#### Overview"
   ]
  },
  {
   "cell_type": "markdown",
   "metadata": {},
   "source": [
    "This project is slightly different than others you have encountered thus far. Instead of a step-by-step tutorial, this project contains a series of open-ended requirements which describe the project you'll be building. There are many possible ways to correctly fulfill all of these requirements, and you should expect to use the internet, Codecademy, and/or other resources when you encounter a problem that you cannot easily solve."
   ]
  },
  {
   "cell_type": "markdown",
   "metadata": {},
   "source": [
    "#### Project Goals"
   ]
  },
  {
   "cell_type": "markdown",
   "metadata": {},
   "source": [
    "You will work to write several functions that investigate a dataset of _Jeopardy!_ questions and answers. Filter the dataset for topics that you're interested in, compute the average difficulty of those questions, and train to become the next Jeopardy champion!"
   ]
  },
  {
   "cell_type": "code",
   "execution_count": 29,
   "metadata": {},
   "outputs": [
    {
     "name": "stdout",
     "output_type": "stream",
     "text": [
      "Index(['Show Number', 'Air Date', 'Round', 'Category', 'Value', 'Question',\n",
      "       'Answer'],\n",
      "      dtype='object')\n",
      "0                               For the last 8 years of his life, Galileo was under house arrest for espousing this man's theory\n",
      "1                    No. 2: 1912 Olympian; football star at Carlisle Indian School; 6 MLB seasons with the Reds, Giants & Braves\n",
      "2                                       The city of Yuma in this state has a record average of 4,055 hours of sunshine each year\n",
      "3                                           In 1963, live on \"The Art Linkletter Show\", this company served its billionth burger\n",
      "4                       Signer of the Dec. of Indep., framer of the Constitution of Mass., second President of the United States\n",
      "                                                                   ...                                                          \n",
      "216925                                                This Puccini opera turns on the solution to 3 riddles posed by the heroine\n",
      "216926                   In North America this term is properly applied to only 4 species that are crested, including the tufted\n",
      "216927                 In Penny Lane, where this \"Hellraiser\" grew up, the barber shaves another customer--then flays him alive!\n",
      "216928    From Ft. Sill, Okla. he made the plea, Arizona is my land, my home, my father's land, to which I now ask to... return\"\n",
      "216929                   A silent movie title includes the last name of this 18th c. statesman & favorite of Catherine the Great\n",
      "Name: Question, Length: 216930, dtype: object\n"
     ]
    }
   ],
   "source": [
    "import pandas as pd\n",
    "import re\n",
    "\n",
    "pd.set_option('display.max_colwidth', None)\n",
    "\n",
    "# Load the dataset\n",
    "file_path = r'C:\\Users\\tatia\\Desktop\\python\\This is Jeopardy\\jeopardy.csv'\n",
    "jeopardy_data = pd.read_csv(file_path)\n",
    "\n",
    "# Display the first few rows to check the content and identify any issues with the column names\n",
    "jeopardy_data.head()\n",
    "\n",
    "# Renaming misformatted columns\n",
    "jeopardy_data = jeopardy_data.rename(columns = {\" Air Date\": \"Air Date\", \" Round\" : \"Round\", \" Category\": \"Category\", \" Value\": \"Value\", \" Question\":\"Question\", \" Answer\": \"Answer\"})\n",
    "print(jeopardy_data.columns)\n",
    "print(jeopardy_data[\"Question\"])\n"
   ]
  },
  {
   "cell_type": "markdown",
   "metadata": {},
   "source": [
    "2. Write a function that filters the dataset for questions that contains all of the words in a list of words. For example, when the list `[\"King\", \"England\"]` was passed to our function, the function returned a DataFrame of 49 rows. Every row had the strings `\"King\"` and `\"England\"` somewhere in its `\" Question\"`.\n",
    "\n",
    "   Test your function by printing out the column containing the question of each row of the dataset."
   ]
  },
  {
   "cell_type": "code",
   "execution_count": 9,
   "metadata": {},
   "outputs": [
    {
     "name": "stdout",
     "output_type": "stream",
     "text": [
      "4953                    Both England's King George V & FDR put their stamp of approval on this \"King of Hobbies\"\n",
      "6337      In retaliation for Viking raids, this \"Unready\" king of England attacks Norse areas of the Isle of Man\n",
      "9191                    This king of England beat the odds to trounce the French in the 1415 Battle of Agincourt\n",
      "11710               This Scotsman, the first Stuart king of England, was called \"The Wisest Fool in Christendom\"\n",
      "13454                                       It's the number that followed the last king of England named William\n",
      "                                                           ...                                                  \n",
      "208295        In 1066 this great-great grandson of Rollo made what some call the last Viking invasion of England\n",
      "208742                      Dutch-born king who ruled England jointly with Mary II & is a tasty New Zealand fish\n",
      "213870                In 1781 William Herschel discovered Uranus & initially named it after this king of England\n",
      "216021          His nickname was \"Bertie\", but he used this name & number when he became king of England in 1901\n",
      "216789        This kingdom of England grew from 2 settlements, one founded around 495 by Cerdic & his son Cynric\n",
      "Name: Question, Length: 152, dtype: object\n"
     ]
    }
   ],
   "source": [
    "\n",
    "\n",
    "# Define the function to filter questions by list of words\n",
    "def filter_questions(data, words):\n",
    "    # Convert the words to lowercase for case-insensitive matching\n",
    "    words = [word.lower() for word in words]\n",
    "    \n",
    "    # Filter the questions based on the presence of all words in the list\n",
    "    filtered_data = data[data['Question'].apply(lambda q: isinstance(q, str) and all(word in q.lower() for word in words))]\n",
    "    \n",
    "    return filtered_data\n",
    "\n",
    "# Test the function with example words \"King\" and \"England\"\n",
    "filtered_jeopardy = filter_questions(jeopardy_data, [\"King\", \"England\"])\n",
    "\n",
    "# Print the questions from the filtered rows\n",
    "print(filtered_jeopardy['Question'])\n",
    "\n"
   ]
  },
  {
   "cell_type": "markdown",
   "metadata": {},
   "source": [
    "3. Test your original function with a few different sets of words to try to find some ways your function breaks. Edit your function so it is more robust.\n",
    "\n",
    "   For example, think about capitalization. We probably want to find questions that contain the word `\"King\"` or `\"king\"`.\n",
    "   \n",
    "   You may also want to check to make sure you don't find rows that contain substrings of your given words. For example, our function found a question that didn't contain the word `\"king\"`, however it did contain the word `\"viking\"` &mdash; it found the `\"king\"` inside `\"viking\"`. Note that this also comes with some drawbacks &mdash; you would no longer find questions that contained words like `\"England's\"`."
   ]
  },
  {
   "cell_type": "code",
   "execution_count": 11,
   "metadata": {},
   "outputs": [
    {
     "name": "stdout",
     "output_type": "stream",
     "text": [
      "6337               In retaliation for Viking raids, this \"Unready\" king of England attacks Norse areas of the Isle of Man\n",
      "9191                             This king of England beat the odds to trounce the French in the 1415 Battle of Agincourt\n",
      "13454                                                It's the number that followed the last king of England named William\n",
      "14912                   This country's King Louis IV was nicknamed \"Louis From Overseas\" because he was raised in England\n",
      "18076                     In 1199 this crusader king of England was mortally wounded while besieging the castle of Chalus\n",
      "                                                               ...                                                       \n",
      "200369    8th C. King Offa built a 170-mile north-south dike that still partly marks the border of England & this country\n",
      "201168                                           Popular Saint-Exupery character waiting around to become king of England\n",
      "208742                               Dutch-born king who ruled England jointly with Mary II & is a tasty New Zealand fish\n",
      "213870                         In 1781 William Herschel discovered Uranus & initially named it after this king of England\n",
      "216021                   His nickname was \"Bertie\", but he used this name & number when he became king of England in 1901\n",
      "Name: Question, Length: 74, dtype: object\n"
     ]
    }
   ],
   "source": [
    "# Define the function to filter questions by list of words\n",
    "def filter_questions(data, words):\n",
    "    # Convert the words to lowercase for case-insensitive matching\n",
    "    words = [word.lower() for word in words]\n",
    "    \n",
    "    # Filter the questions based on the presence of all complete words in the list\n",
    "    filtered_data = data[data['Question'].apply(\n",
    "        lambda q: isinstance(q, str) and all(word in q.lower().split() for word in words)\n",
    "    )]\n",
    "    \n",
    "    return filtered_data\n",
    "\n",
    "# Test the function with example words \"King\" and \"England\"\n",
    "filtered_jeopardy = filter_questions(jeopardy_data, [\"King\", \"England\"])\n",
    "\n",
    "# Print the questions from the filtered rows\n",
    "print(filtered_jeopardy['Question'])"
   ]
  },
  {
   "cell_type": "markdown",
   "metadata": {},
   "source": [
    "4. We may want to eventually compute aggregate statistics, like `.mean()` on the `\" Value\"` column. But right now, the values in that column are strings. Convert the`\" Value\"` column to floats. If you'd like to, you can create a new column with float values.\n",
    "\n",
    "   While most of the values in the `\" Value\"` column represent a dollar amount as a string, note that some do not &mdash; these values will need to be handled differently!\n",
    "\n",
    "   Now that you can filter the dataset of question, use your new column that contains the float values of each question to find the \"difficulty\" of certain topics. For example, what is the average value of questions that contain the word `\"King\"`?\n",
    "   \n",
    "   Make sure to use the dataset that contains the float values as the dataset you use in your filtering function."
   ]
  },
  {
   "cell_type": "code",
   "execution_count": 16,
   "metadata": {},
   "outputs": [
    {
     "name": "stdout",
     "output_type": "stream",
     "text": [
      "  Value  float_value\n",
      "0  $200        200.0\n",
      "1  $200        200.0\n",
      "2  $200        200.0\n",
      "3  $200        200.0\n",
      "4  $200        200.0\n",
      "Average value of questions containing 'King': 818.8878000979912\n"
     ]
    }
   ],
   "source": [
    "# Display the first few rows to check the content and identify any issues with the column names\n",
    "jeopardy_data.head()\n",
    "import re \n",
    "# Convert the \"Value\" column to a float, creating a new column 'float_value'\n",
    "def convert_to_float(value):\n",
    "    # Remove dollar signs and commas, handle invalid values like None or NaN\n",
    "    if isinstance(value, str):\n",
    "        value = re.sub(r'[\\$,]', '', value)  # Remove $ and ,\n",
    "        if value.isdigit():\n",
    "            return float(value)\n",
    "    return None  # If value is not valid, return None\n",
    "\n",
    "# Apply the conversion function to the \"Value\" column\n",
    "jeopardy_data['float_value'] = jeopardy_data['Value'].apply(convert_to_float)\n",
    "\n",
    "# Now, let's check the first few rows to see the new 'float_value' column\n",
    "print(jeopardy_data[['Value', 'float_value']].head())\n",
    "\n",
    "# Function to filter questions and compute average value\n",
    "def filter_questions_and_compute_average(data, words):\n",
    "    # First, filter the questions using the previously defined filter function\n",
    "    filtered_data = filter_questions(data, words)\n",
    "    \n",
    "    # Calculate the average of the 'float_value' column for filtered questions\n",
    "    average_value = filtered_data['float_value'].mean()\n",
    "    \n",
    "    return average_value\n",
    "\n",
    "# Test the function by finding the average value of questions containing the word \"King\"\n",
    "average_king_value = filter_questions_and_compute_average(jeopardy_data, [\"King\"])\n",
    "\n",
    "print(f\"Average value of questions containing 'King': {average_king_value}\")\n"
   ]
  },
  {
   "cell_type": "markdown",
   "metadata": {},
   "source": [
    "5. Write a function that returns the count of unique answers to all of the questions in a dataset. For example, after filtering the entire dataset to only questions containing the word `\"King\"`, we could then find all of the unique answers to those questions. The answer \"Henry VIII\" appeared 55 times and was the most common answer."
   ]
  },
  {
   "cell_type": "code",
   "execution_count": 21,
   "metadata": {},
   "outputs": [
    {
     "name": "stdout",
     "output_type": "stream",
     "text": [
      "Answer\n",
      "Henry VIII                           41\n",
      "Sweden                               24\n",
      "Solomon                              23\n",
      "Norway                               22\n",
      "Richard III                          21\n",
      "                                     ..\n",
      "Tory                                  1\n",
      "Naomi Watts Riots                     1\n",
      "Bad, Bad Leroy Brown                  1\n",
      "Elephants                             1\n",
      "a pyramid (the pyramids accepted)     1\n",
      "Name: count, Length: 1165, dtype: int64\n"
     ]
    }
   ],
   "source": [
    "import pandas as pd\n",
    "\n",
    "# Function to filter questions and return the count of unique answers\n",
    "def filter_questions_and_count_unique_answers(data, words):\n",
    "    # First, filter the questions using the previously defined filter function\n",
    "    filtered_data = filter_questions(data, words)\n",
    "    \n",
    "    # Count the occurrences of each unique answer\n",
    "    unique_answers = filtered_data['Answer'].value_counts()\n",
    "    \n",
    "    return unique_answers\n",
    "\n",
    "# Test the function by finding the unique answers for questions containing the word \"King\"\n",
    "unique_answers_king = filter_questions_and_count_unique_answers(jeopardy_data, [\"King\"])\n",
    "\n",
    "# Print the unique answers and their counts\n",
    "print(unique_answers_king)\n"
   ]
  },
  {
   "cell_type": "markdown",
   "metadata": {},
   "source": [
    "6. Explore from here! This is an incredibly rich dataset, and there are so many interesting things to discover. There are a few columns that we haven't even started looking at yet. Here are some ideas on ways to continue working with this data:\n",
    "\n",
    " * Investigate the ways in which questions change over time by filtering by the date. How many questions from the 90s use the word `\"Computer\"` compared to questions from the 2000s?\n",
    " * Is there a connection between the round and the category? Are you more likely to find certain categories, like `\"Literature\"` in Single Jeopardy or Double Jeopardy?\n",
    " * Build a system to quiz yourself. Grab random questions, and use the <a href=\"https://docs.python.org/3/library/functions.html#input\">input</a> function to get a response from the user. Check to see if that response was right or wrong."
   ]
  },
  {
   "cell_type": "code",
   "execution_count": 31,
   "metadata": {},
   "outputs": [
    {
     "name": "stdout",
     "output_type": "stream",
     "text": [
      "Number of questions with the word 'Computer' in the 1990s: 66\n",
      "Number of questions with the word 'Computer' in the 2000s: 197\n"
     ]
    }
   ],
   "source": [
    "#questions change over time by filtering by the date. How many questions from the 90s use the word \"Computer\" \n",
    "#compared to questions from the 2000s?\n",
    "\n",
    "\n",
    "# Convert the \"air_date\" column to datetime format\n",
    "jeopardy_data['Air Date'] = pd.to_datetime(jeopardy_data['Air Date'])\n",
    "\n",
    "# Define a function to filter by date range and check for a specific word\n",
    "def count_questions_by_word_and_decade(data, word, start_year, end_year):\n",
    "    # Filter the dataset by date range (start_year to end_year)\n",
    "    filtered_by_date = data[(data['Air Date'].dt.year >= start_year) & (data['Air Date'].dt.year <= end_year)]\n",
    "    \n",
    "    # Filter the questions containing the specific word\n",
    "    filtered_questions = filter_questions(filtered_by_date, [word])\n",
    "    \n",
    "    # Return the number of questions that match the word in the date range\n",
    "    return len(filtered_questions)\n",
    "\n",
    "# Count questions with the word \"Computer\" in the 1990s and 2000s\n",
    "count_90s = count_questions_by_word_and_decade(jeopardy_data, \"Computer\", 1990, 1999)\n",
    "count_2000s = count_questions_by_word_and_decade(jeopardy_data, \"Computer\", 2000, 2009)\n",
    "\n",
    "# Print the results\n",
    "print(f\"Number of questions with the word 'Computer' in the 1990s: {count_90s}\")\n",
    "print(f\"Number of questions with the word 'Computer' in the 2000s: {count_2000s}\")\n",
    "\n",
    "\n"
   ]
  },
  {
   "cell_type": "code",
   "execution_count": 24,
   "metadata": {},
   "outputs": [
    {
     "name": "stdout",
     "output_type": "stream",
     "text": [
      "\n",
      "Question 1 of 5\n",
      "Question: The program seen here covered this real monarch of ancient Egypt, subject of a 2002 blockbuster film <i>Only now, over a century after its discovery, are Egyptologists beginning to understand its significance</i>\n",
      "Your answer: bxvkjds\n",
      "Wrong! The correct answer was: the Scorpion King\n",
      "--------------------------------------------------\n",
      "\n",
      "Question 2 of 5\n",
      "Question: \"In truth, fair Montague, I am too fond\"\n",
      "Your answer: lksdn\n",
      "Wrong! The correct answer was: Romeo and Juliet\n",
      "--------------------------------------------------\n",
      "\n",
      "Question 3 of 5\n",
      "Question: This kind of lettuce was named for a 19th century American vegetable grower\n",
      "Your answer: jns\n",
      "Wrong! The correct answer was: Bibb lettuce\n",
      "--------------------------------------------------\n",
      "\n",
      "Question 4 of 5\n",
      "Question: On Dec. 1, 1918 this island became a self-governing kingdom united with Denmark\n",
      "Your answer: jsnc\n",
      "Wrong! The correct answer was: Iceland\n",
      "--------------------------------------------------\n",
      "\n",
      "Question 5 of 5\n",
      "Question: One side of Willemstad, Curacao is called Punda & the other side is Otrabanda, which means this\n",
      "Your answer: ,san\n",
      "Wrong! The correct answer was: other side\n",
      "--------------------------------------------------\n"
     ]
    }
   ],
   "source": [
    "#A system to quiz yourself. Grab random questions, and use the input function to get a response from the user. \n",
    "#Check to see if that response was right or wrong.\n",
    "\n",
    "import random\n",
    "\n",
    "# Define the quiz function\n",
    "def jeopardy_quiz(data):\n",
    "    # Randomly select a question from the dataset\n",
    "    random_question = data.sample(1).iloc[0]\n",
    "    \n",
    "    # Get the question and answer from the selected row\n",
    "    question = random_question['Question']\n",
    "    correct_answer = random_question['Answer']\n",
    "    \n",
    "    # Ask the user the question\n",
    "    print(f\"Question: {question}\")\n",
    "    \n",
    "    # Get the user's answer\n",
    "    user_answer = input(\"Your answer: \").strip().lower()\n",
    "    \n",
    "    # Compare the user's answer with the correct answer (case-insensitive)\n",
    "    if user_answer == correct_answer.strip().lower():\n",
    "        print(\"Correct!\")\n",
    "    else:\n",
    "        print(f\"Wrong! The correct answer was: {correct_answer}\")\n",
    "        \n",
    "# Loop to ask multiple questions\n",
    "def run_quiz(data, num_questions=5):\n",
    "    score = 0\n",
    "    for i in range(num_questions):\n",
    "        print(f\"\\nQuestion {i+1} of {num_questions}\")\n",
    "        jeopardy_quiz(data)\n",
    "        print('-' * 50)\n",
    "\n",
    "# Run the quiz with 5 random questions\n",
    "run_quiz(jeopardy_data, num_questions=5)\n"
   ]
  }
 ],
 "metadata": {
  "kernelspec": {
   "display_name": "Python 3 (ipykernel)",
   "language": "python",
   "name": "python3"
  },
  "language_info": {
   "codemirror_mode": {
    "name": "ipython",
    "version": 3
   },
   "file_extension": ".py",
   "mimetype": "text/x-python",
   "name": "python",
   "nbconvert_exporter": "python",
   "pygments_lexer": "ipython3",
   "version": "3.11.7"
  }
 },
 "nbformat": 4,
 "nbformat_minor": 2
}
